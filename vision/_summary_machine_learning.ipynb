{
 "cells": [
  {
   "cell_type": "markdown",
   "id": "a3c13c38",
   "metadata": {},
   "source": [
    "# Qualitätsanalyse und visuelle Überprüfung annotierter Bilddaten für maschinelles Lernen\n",
    "select Kernel: Strg + Shift + p\n"
   ]
  },
  {
   "cell_type": "markdown",
   "id": "6f8cf960",
   "metadata": {},
   "source": [
    "## Ziele dieses Notebooks\n",
    "\n",
    "- **Darstellung annotierter Bilddaten** zur manuellen Überprüfung\n",
    "- **Analyse der Klassenverteilung** und Identifikation von Label-Inkonsistenzen\n",
    "- **Bewertung der Annotationsqualität** (z. B. Positionierung, Boxgröße, Label-Korrektheit)\n",
    "- **Prüfung der Eignung der Daten** für maschinelles Lernen\n",
    "- **Demonstration einfacher Verbesserungsschritte** (z. B. Augmentierung)\n",
    "\n",
    "> Der Fokus liegt auf optischen Bilddaten."
   ]
  },
  {
   "cell_type": "markdown",
   "id": "20ca3d99",
   "metadata": {},
   "source": [
    "# Grundlagen des maschinellen Lernens\n",
    "\n",
    "Maschinelles Lernen (ML) ist ein Teilbereich der Künstlichen Intelligenz, bei dem Systeme aus Daten lernen, um Vorhersagen oder Entscheidungen zu treffen. Man unterscheidet ML-Verfahren grob in zwei Hauptkategorien:\n",
    "\n",
    "---\n",
    "\n",
    "## 🧩 Supervised vs. Unsupervised Learning\n",
    "\n",
    "| Merkmal                | Supervised Learning                        | Unsupervised Learning                      |\n",
    "|------------------------|--------------------------------------------|--------------------------------------------|\n",
    "| Trainingsdaten         | Mit Labeln versehen                        | Ohne Labels                                 |\n",
    "| Ziel                   | Vorhersage (z. B. Klasse, Wert)            | Mustererkennung (z. B. Cluster, Strukturen) |\n",
    "| Beispielaufgaben       | Klassifikation, Regression (kontinuierlich)                | Clustering, Dimensionsreduktion             |\n",
    "| Annotation erforderlich| ✅ Ja                                      | ❌ Nein                                     |\n",
    "\n",
    "**Bezug zur Annotation:**  \n",
    "Supervised Learning benötigt **annotierte Daten**, z. B. \"Person erkannt\", \"Temperaturbereich\" oder \"Objektklasse\". Die Qualität dieser Annotationen bestimmt maßgeblich die Modellgüte.\n",
    "\n",
    "---\n",
    "\n",
    "## 🎯 Diskrete vs. kontinuierliche Zielgrößen\n",
    "\n",
    "| Merkmal                  | Diskret (Klassifikation)              | Kontinuierlich (Regression)               |\n",
    "|--------------------------|---------------------------------------|-------------------------------------------|\n",
    "| Zielvariable             | Endliche Anzahl an Klassen             | Reeller Wertebereich                      |\n",
    "| Beispiele                | Objektklassen (Auto, Fahrrad, etc.)    | Geschwindigkeit, Temperatur               |\n",
    "| ML-Aufgabe               | Klassifikation                         | Regression                                |\n",
    "\n"
   ]
  },
  {
   "cell_type": "markdown",
   "id": "d3b8e598",
   "metadata": {},
   "source": [
    "## 🧠 Reinforcement Learning from Human Feedback (RLHF)\n",
    "\n",
    "RLHF ist eine moderne Methode im Bereich des Reinforcement Learnings, bei der **menschliches Feedback** genutzt wird, um ein Modell zu verbessern. Statt mit einer vorgegebenen mathematischen Belohnungsfunktion zu arbeiten, lernt das Modell aus **Vergleichen oder Bewertungen von Menschen**.\n",
    "\n",
    "### 🧩 Grundidee:\n",
    "- Ein Basismodell generiert mehrere mögliche Antworten / Aktionen.\n",
    "- Menschen bewerten diese Alternativen nach Qualität.\n",
    "- Ein sogenanntes \"Reward-Modell\" wird trainiert, um diese menschlichen Präferenzen zu imitieren.\n",
    "- Dieses Reward-Modell dient anschließend als Belohnungsfunktion im Reinforcement Learning.\n",
    "\n",
    "### 🔄 Anwendungsbeispiel:\n",
    "- In der Sprachmodellierung (z. B. ChatGPT) wird RLHF eingesetzt, um das Modell zu **feinjustieren**, sodass es menschlichere, nützlichere und sicherere Antworten liefert."
   ]
  },
  {
   "cell_type": "markdown",
   "id": "b528d4e4",
   "metadata": {},
   "source": [
    "## 📊 Die Rolle von Trainingsdaten im maschinellen Lernen\n",
    "\n",
    "Trainingsdaten sind das Fundament jeder ML-Anwendung. Sie bestimmen, **was ein Modell lernen kann**, **wie gut es generalisiert**, und **ob es in realen Anwendungen zuverlässig funktioniert**.\n",
    "\n",
    "Dabei erfüllen Daten im Machine-Learning-Prozess **unterschiedliche Aufgaben**:\n",
    "\n",
    "---\n",
    "\n",
    "### 🔧 1. Trainingsdaten (Training Set)\n",
    "- Dienen zur **Modellanpassung** (Lernen von Mustern)\n",
    "- Müssen **vielfältig und repräsentativ** sein\n",
    "- Fehlerhafte oder inkonsistente Annotationen führen direkt zu schlechten Vorhersagen\n",
    "\n",
    "### 🔍 2. Validierungsdaten (Validation Set)\n",
    "- Nicht zum Training verwendet!\n",
    "- Dienen zur **Modellauswahl und Parametertuning**\n",
    "- Helfen dabei, **Overfitting frühzeitig zu erkennen**\n",
    "- Annotation muss genauso präzise sein wie im Training – idealerweise von anderen Annotatoren geprüft\n",
    "\n",
    "### 🧪 3. Testdaten (Test Set)\n",
    "- Absolut **unabhängig vom Training**\n",
    "- Wird nur zur **finalen Bewertung** genutzt\n",
    "- Zeigt, wie gut das Modell **generalisieren kann**\n",
    "- Muss die **Zielanwendung** realistisch abbilden\n",
    "\n",
    "---\n",
    "\n",
    "### 📌 Warum ist das wichtig für Annotation?\n",
    "\n",
    "> Jede Phase – Training, Validierung, Test – braucht **hochwertige Annotationen**. Eine fehlerhafte oder uneinheitliche Beschriftung in einer dieser Phasen kann zu:\n",
    "- **Fehlgeleiteten Lernprozessen**\n",
    "- **Fehlerhafter Modellbewertung**\n",
    "- **Falschen Entscheidungen in der Praxis** führen.\n",
    "\n",
    "Deshalb ist die **manuelle Überprüfung (Review)** von Daten genauso wichtig wie die Annotation selbst.\n",
    "\n",
    "---\n",
    "\n",
    "🧠 **Merksatz:**  \n",
    "> *\"Ein Modell ist nur so gut wie die Daten, aus denen es gelernt hat – und bewertet wurde.\"*"
   ]
  },
  {
   "cell_type": "markdown",
   "id": "d1bd0b1e",
   "metadata": {},
   "source": [
    "## ✏️ Was ist Annotation?\n",
    "\n",
    "**Annotation** bedeutet in der Datenverarbeitung das **manuelle oder automatisierte Hinzufügen von Informationen** zu Rohdaten. Im Kontext von Machine Learning – insbesondere beim Supervised Learning – ist Annotation essenziell, weil:\n",
    "\n",
    "- sie den Daten **Bedeutung verleiht**,\n",
    "- sie definiert, **was das Modell lernen soll**,\n",
    "- sie die Grundlage für die **Zielvariable (Label)** bildet.\n",
    "\n",
    "---\n",
    "\n",
    "### 📸 Beispiele für Annotation:\n",
    "\n",
    "| Datentyp         | Mögliche Annotationen                        |\n",
    "|------------------|----------------------------------------------|\n",
    "| Bilddaten        | Bounding Boxes, Klassenlabels, Segmentierung |\n",
    "| Textdaten        | Sentiment, Entitäten, Kategorien             |\n",
    "| Audiodaten       | Transkription, Sprecheridentifikation        |\n",
    "| Zeitreihen       | Ereignismarkierungen, Klassenzuweisung       |\n",
    "\n",
    "---\n",
    "\n",
    "### 🎯 Warum ist Annotation so wichtig?\n",
    "\n",
    "- **Modelle lernen direkt aus den Annotationen** sind diese fehlerhaft, lernt das Modell falsch.\n",
    "- **Konsistenz und Qualität** sind entscheidend: Unterschiedliche Label für gleiche Situationen führen zu Inkonsistenzen.\n",
    "- Gute Annotationen ermöglichen nicht nur Training, sondern auch **auswertbare und erklärbare Ergebnisse**.\n",
    "\n",
    "> In vielen realen Anwendungen (z. B. Videoanalyse, Bildauswertung) ist die Annotation aufwendig, aber unverzichtbar."
   ]
  },
  {
   "cell_type": "markdown",
   "id": "c23cbe32",
   "metadata": {},
   "source": [
    "## 🔄 Lebenszyklus von Trainingsdaten im Machine-Learning-Projekt\n",
    "\n",
    "Die Qualität eines Machine-Learning-Modells hängt maßgeblich vom **Lebenszyklus der Daten** ab – von der Rohdatenerfassung bis hin zur finalen Auswertung. Dieser Zyklus ist nicht linear, sondern oft **iterativ** und **review-getrieben**.\n",
    "\n",
    "---\n",
    "\n",
    "### 📂 Phasen im Trainingsdaten-Lifecycle:\n",
    "\n",
    "1. **Datenaufnahme / Sammlung**\n",
    "   - Bilder, Videos, Sensor- oder Wärmebilddaten werden aufgenommen\n",
    "   - Relevanz und Qualität der Rohdaten ist entscheidend\n",
    "\n",
    "2. **Datenannotation**\n",
    "   - Menschliche Annotator:innen (oder Tools) versehen die Daten mit semantischen Informationen\n",
    "   - z. B. \"Person\", \"Fahrzeug\", \"Temperatur > 38°C\"\n",
    "\n",
    "3. **Review & Qualitätskontrolle**\n",
    "   - Doppelte Überprüfung durch Reviewer oder automatisierte Checks\n",
    "   - Konsistenz, Korrektheit, Vollständigkeit werden überprüft\n",
    "\n",
    "4. **Datenaufbereitung**\n",
    "   - Konvertierung, Normalisierung, Datenformatierung\n",
    "   - Aufteilung in Training / Validierung / Test\n",
    "\n",
    "5. **Modelltraining & Evaluation**\n",
    "   - Nutzung der Daten für das Modelltraining\n",
    "   - Validierung und Testphase mit unabhängigen Datensätzen\n",
    "\n",
    "6. **Feedback & Verbesserung**\n",
    "   - Analyse der Modellleistung zeigt Schwächen im Datensatz auf\n",
    "   - Neue Datenaufnahme oder Reannotation notwendig\n",
    "\n",
    "---\n",
    "\n",
    "### 🔁 Iterativer Prozess\n",
    "\n",
    "> Der Datenlebenszyklus ist keine Einbahnstraße.  \n",
    "> Erkenntnisse aus der Modellbewertung führen oft zu neuen Daten, neuen Annotationen oder verfeinerten Regeln.\n",
    "\n",
    "---\n",
    "\n",
    "💡 **Takeaway:**  \n",
    "> *Daten leben – und wer sie versteht, kann Maschinen sinnvoll beibringen, unsere Welt zu interpretieren.*"
   ]
  },
  {
   "cell_type": "markdown",
   "id": "91c07e9a",
   "metadata": {},
   "source": [
    "## 🧠 Multilayer Perceptron (MLP)\n",
    "\n",
    "Ein **Multilayer Perceptron** ist ein grundlegendes künstliches neuronales Netz, das aus mehreren voll verbundenen Schichten (engl. \"fully connected layers\") besteht.\n",
    "\n",
    "### Struktur:\n",
    "- Besteht aus: **Eingabeschicht**, **einer oder mehreren versteckten Schichten**, **Ausgabeschicht**\n",
    "- Jede Schicht ist **vollständig mit der nächsten verbunden**\n",
    "- Aktivierungsfunktionen (z. B. ReLU, Sigmoid) sorgen für Nichtlinearität\n",
    "\n",
    "### Anwendungsbereich:\n",
    "- Tabellendaten\n",
    "- Klassifikation einfacher Merkmale\n",
    "- Zeitreihen (z. B. mit zusätzlicher Vorverarbeitung)\n",
    "\n",
    "### Einschränkungen:\n",
    "- MLPs **behandeln alle Eingaben gleich**, unabhängig von räumlicher oder zeitlicher Struktur\n",
    "- Deshalb **nicht ideal für Bilddaten**, da diese eine 2D-Struktur haben\n",
    "\n",
    "> Für einfache Aufgaben gut geeignet – bei komplexeren Bilddaten stößt das MLP jedoch an Grenzen."
   ]
  },
  {
   "cell_type": "markdown",
   "id": "68e69a31",
   "metadata": {},
   "source": [
    "## 🖼️ Convolutional Neural Network (CNN)\n",
    "\n",
    "Ein **Convolutional Neural Network (CNN)** ist ein neuronales Netz, das speziell für die **Verarbeitung von Bild- und Videodaten** entwickelt wurde.\n",
    "\n",
    "### Hauptkomponenten:\n",
    "- **Convolutional Layers:** Filtern lokale Merkmalsmuster (z. B. Kanten, Formen)\n",
    "- **Pooling Layers:** Reduzieren die Dimensionalität und extrahieren die wichtigsten Informationen\n",
    "- **Fully Connected Layers:** Am Ende, zur Klassifikation oder Regression\n",
    "\n",
    "### Vorteile für Bilddaten:\n",
    "- **Berücksichtigt lokale Strukturen** (z. B. räumliche Nähe von Pixeln)\n",
    "- **Effizienter als MLP** bei hochdimensionalen Daten wie Bildern\n",
    "- Robust gegenüber **Translationen und Skalierungen**\n",
    "\n",
    "### Typische Einsatzbereiche:\n",
    "- Objekterkennung, Bildklassifikation\n",
    "- Wärmebildanalyse\n",
    "- Videoauswertung\n",
    "\n",
    "> CNNs sind der **Goldstandard für Bildverarbeitung** im Deep Learning – und damit zentral bei der Auswertung annotierter Kameradaten."
   ]
  },
  {
   "cell_type": "markdown",
   "id": "7c922075",
   "metadata": {},
   "source": [
    "---\n",
    "---\n",
    "## ⚙️ Ziel: Vergleichbares CNN-Modell in PyTorch und TensorFlow\n",
    "\n",
    "In diesem Abschnitt wird ein einfaches **Convolutional Neural Network (CNN)** in zwei führenden Deep-Learning-Frameworks implementiert:\n",
    "\n",
    "- 🔥 **PyTorch** – Flexibles Framework mit dynamischem Berechnungsgraph  \n",
    "- 🌊 **TensorFlow** – Industriestandard mit Fokus auf Produktion und Deployment\n",
    "\n",
    "### 🔧 Gemeinsames Zielmodell\n",
    "\n",
    "Beide Varianten sollen dieselbe Architektur umsetzen, um die Unterschiede im Code-Design, API und Aufbau direkt vergleichbar zu machen:\n",
    "\n",
    "- Eingabedaten: **28×28 Graustufenbilder** (z. B. MNIST-Format)\n",
    "- 1. Convolutional Layer: 16 Filter, 3×3 Kernel, ReLU\n",
    "- 2. Convolutional Layer: 32 Filter, 3×3 Kernel, ReLU\n",
    "- MaxPooling nach jedem Conv-Layer (2×2)\n",
    "- Fully Connected Layer zur Klassifikation in 10 Klassen\n",
    "- Softmax- bzw. LogSoftmax-Ausgabe\n",
    "\n",
    "---\n",
    "\n",
    "### 🧪 Warum zwei Frameworks?\n",
    "\n",
    "Das parallele Arbeiten mit PyTorch und TensorFlow zeigt:\n",
    "\n",
    "- 🔍 **Framework-übergreifende Kompetenz**\n",
    "- 🧱 **Modularer Codeaufbau mit Klassen und sauberem Namespace**\n",
    "- 📦 **Verständnis für Trainingsfluss, Modellstruktur und Layer-Aufbau**\n",
    "\n",
    "> Die gewählte Architektur ist bewusst einfach gehalten, um die Unterschiede in der **Frameworklogik und Implementierung** klar aufzuzeigen."
   ]
  },
  {
   "cell_type": "code",
   "execution_count": 12,
   "id": "0c4fa2da",
   "metadata": {},
   "outputs": [
    {
     "name": "stdout",
     "output_type": "stream",
     "text": [
      "c:\\Users\\Bindemaja\\miniconda3\\envs\\vision\\python.exe\n",
      "2.19.0\n",
      "['DTypePolicy', 'FloatDTypePolicy', 'Function', 'Initializer', 'Input', 'InputSpec', 'KerasTensor', 'Layer', 'Loss', 'Metric', 'Model', 'Operation', 'Optimizer', 'Quantizer', 'Regularizer', 'RematScope', 'Sequential', 'StatelessScope', 'SymbolicScope', 'Variable', '__builtins__', '__cached__', '__doc__', '__file__', '__loader__', '__name__', '__package__', '__path__', '__spec__', '__version__', 'activations', 'applications', 'backend', 'callbacks', 'config', 'constraints', 'datasets', 'device', 'distribution', 'dtype_policies', 'export', 'initializers', 'layers', 'legacy', 'losses', 'metrics', 'mixed_precision', 'models', 'name_scope', 'ops', 'optimizers', 'preprocessing', 'quantizers', 'random', 'regularizers', 'remat', 'tree', 'utils', 'version', 'visualization', 'wrappers']\n"
     ]
    }
   ],
   "source": [
    "import sys\n",
    "#debug help: am I in the right environment?\n",
    "print(sys.executable)\n",
    "import numpy as np\n",
    "\n",
    "# PyTorch\n",
    "import torch\n",
    "import torch.nn as nn\n",
    "import torch.nn.functional as F\n",
    "\n",
    "# TensorFlow\n",
    "import tensorflow as tf\n",
    "from tensorflow.keras import layers, models\n",
    "print(tf.__version__)\n",
    "print(dir(tf.keras))\n",
    "\n",
    "#for evaluation\n",
    "from sklearn.metrics import accuracy_score, confusion_matrix, ConfusionMatrixDisplay"
   ]
  },
  {
   "cell_type": "code",
   "execution_count": 13,
   "id": "5779a805",
   "metadata": {},
   "outputs": [],
   "source": [
    "class SimpleCNN_PyTorch(nn.Module):\n",
    "    def __init__(self, num_classes=10):\n",
    "        super().__init__()\n",
    "        self.conv1 = nn.Conv2d(1, 16, 3, padding=1)\n",
    "        self.conv2 = nn.Conv2d(16, 32, 3, padding=1)\n",
    "        self.pool = nn.MaxPool2d(2, 2)\n",
    "        self.fc1 = nn.Linear(32 * 7 * 7, num_classes)\n",
    "\n",
    "    def forward(self, x):\n",
    "        x = self.pool(F.relu(self.conv1(x)))\n",
    "        x = self.pool(F.relu(self.conv2(x)))\n",
    "        x = x.view(-1, 32 * 7 * 7)\n",
    "        return F.log_softmax(self.fc1(x), dim=1)\n",
    "\n",
    "    def evaluate(self, dataloader):\n",
    "        import matplotlib.pyplot as plt\n",
    "        #from sklearn.metrics import accuracy_score, confusion_matrix, ConfusionMatrixDisplay\n",
    "\n",
    "        self.eval()\n",
    "        predictions, labels_all = [], []\n",
    "\n",
    "        with torch.no_grad():\n",
    "            for images, labels in dataloader:\n",
    "                output = self(images)\n",
    "                preds = output.argmax(dim=1).cpu().numpy()\n",
    "                predictions.extend(preds)\n",
    "                labels_all.extend(labels.cpu().numpy())\n",
    "\n",
    "        acc = accuracy_score(labels_all, predictions)\n",
    "        print(f\"Test Accuracy: {acc * 100:.2f}%\")\n",
    "\n",
    "        cm = confusion_matrix(labels_all, predictions)\n",
    "        disp = ConfusionMatrixDisplay(confusion_matrix=cm, display_labels=list(range(10)))\n",
    "        disp.plot(cmap=\"Blues\", xticks_rotation=45)\n",
    "        plt.title(\"Confusion Matrix – PyTorch\")\n",
    "        plt.show()"
   ]
  },
  {
   "cell_type": "code",
   "execution_count": 14,
   "id": "c6311a4d",
   "metadata": {},
   "outputs": [],
   "source": [
    "class SimpleCNN_TensorFlow(tf.keras.Model):\n",
    "    def __init__(self, num_classes=10):\n",
    "        super(SimpleCNN_TensorFlow, self).__init__()\n",
    "        self.conv1 = layers.Conv2D(16, kernel_size=3, padding='same', activation='relu')\n",
    "        self.pool1 = layers.MaxPooling2D(pool_size=2)\n",
    "        self.conv2 = layers.Conv2D(32, kernel_size=3, padding='same', activation='relu')\n",
    "        self.pool2 = layers.MaxPooling2D(pool_size=2)\n",
    "        self.flatten = layers.Flatten()\n",
    "        self.fc = layers.Dense(num_classes, activation='softmax')\n",
    "\n",
    "    def call(self, x, training=False):\n",
    "        x = self.pool1(self.conv1(x))  # 28x28 -> 14x14\n",
    "        x = self.pool2(self.conv2(x))  # 14x14 -> 7x7\n",
    "        x = self.flatten(x)\n",
    "        return self.fc(x)\n",
    "    \n",
    "    def evaluate_tensorflow(model, x_test, y_test, y_test_true):\n",
    "        loss, acc = model.evaluate(x_test, y_test, verbose=0)\n",
    "        print(f\"🎯 TensorFlow Test Accuracy: {acc * 100:.2f}%\")\n",
    "\n",
    "        preds = model.predict(x_test)\n",
    "        preds_labels = np.argmax(preds, axis=1)\n",
    "\n",
    "        cm = confusion_matrix(y_test_true, preds_labels)\n",
    "        disp = ConfusionMatrixDisplay(confusion_matrix=cm, display_labels=list(range(10)))\n",
    "        disp.plot(cmap=\"Greens\", xticks_rotation=45)\n",
    "        plt.title(\"TensorFlow Confusion Matrix\")\n",
    "        plt.show()"
   ]
  },
  {
   "cell_type": "code",
   "execution_count": 15,
   "id": "1ced0890",
   "metadata": {},
   "outputs": [
    {
     "name": "stdout",
     "output_type": "stream",
     "text": [
      "SimpleCNN_PyTorch(\n",
      "  (conv1): Conv2d(1, 16, kernel_size=(3, 3), stride=(1, 1), padding=(1, 1))\n",
      "  (conv2): Conv2d(16, 32, kernel_size=(3, 3), stride=(1, 1), padding=(1, 1))\n",
      "  (pool): MaxPool2d(kernel_size=2, stride=2, padding=0, dilation=1, ceil_mode=False)\n",
      "  (fc1): Linear(in_features=1568, out_features=10, bias=True)\n",
      ")\n"
     ]
    },
    {
     "data": {
      "text/html": [
       "<pre style=\"white-space:pre;overflow-x:auto;line-height:normal;font-family:Menlo,'DejaVu Sans Mono',consolas,'Courier New',monospace\"><span style=\"font-weight: bold\">Model: \"simple_cnn__tensor_flow_2\"</span>\n",
       "</pre>\n"
      ],
      "text/plain": [
       "\u001b[1mModel: \"simple_cnn__tensor_flow_2\"\u001b[0m\n"
      ]
     },
     "metadata": {},
     "output_type": "display_data"
    },
    {
     "data": {
      "text/html": [
       "<pre style=\"white-space:pre;overflow-x:auto;line-height:normal;font-family:Menlo,'DejaVu Sans Mono',consolas,'Courier New',monospace\">┏━━━━━━━━━━━━━━━━━━━━━━━━━━━━━━━━━┳━━━━━━━━━━━━━━━━━━━━━━━━┳━━━━━━━━━━━━━━━┓\n",
       "┃<span style=\"font-weight: bold\"> Layer (type)                    </span>┃<span style=\"font-weight: bold\"> Output Shape           </span>┃<span style=\"font-weight: bold\">       Param # </span>┃\n",
       "┡━━━━━━━━━━━━━━━━━━━━━━━━━━━━━━━━━╇━━━━━━━━━━━━━━━━━━━━━━━━╇━━━━━━━━━━━━━━━┩\n",
       "│ conv2d_4 (<span style=\"color: #0087ff; text-decoration-color: #0087ff\">Conv2D</span>)               │ (<span style=\"color: #00af00; text-decoration-color: #00af00\">1</span>, <span style=\"color: #00af00; text-decoration-color: #00af00\">28</span>, <span style=\"color: #00af00; text-decoration-color: #00af00\">28</span>, <span style=\"color: #00af00; text-decoration-color: #00af00\">16</span>)        │           <span style=\"color: #00af00; text-decoration-color: #00af00\">160</span> │\n",
       "├─────────────────────────────────┼────────────────────────┼───────────────┤\n",
       "│ max_pooling2d_4 (<span style=\"color: #0087ff; text-decoration-color: #0087ff\">MaxPooling2D</span>)  │ ?                      │             <span style=\"color: #00af00; text-decoration-color: #00af00\">0</span> │\n",
       "├─────────────────────────────────┼────────────────────────┼───────────────┤\n",
       "│ conv2d_5 (<span style=\"color: #0087ff; text-decoration-color: #0087ff\">Conv2D</span>)               │ (<span style=\"color: #00af00; text-decoration-color: #00af00\">1</span>, <span style=\"color: #00af00; text-decoration-color: #00af00\">14</span>, <span style=\"color: #00af00; text-decoration-color: #00af00\">14</span>, <span style=\"color: #00af00; text-decoration-color: #00af00\">32</span>)        │         <span style=\"color: #00af00; text-decoration-color: #00af00\">4,640</span> │\n",
       "├─────────────────────────────────┼────────────────────────┼───────────────┤\n",
       "│ max_pooling2d_5 (<span style=\"color: #0087ff; text-decoration-color: #0087ff\">MaxPooling2D</span>)  │ ?                      │             <span style=\"color: #00af00; text-decoration-color: #00af00\">0</span> │\n",
       "├─────────────────────────────────┼────────────────────────┼───────────────┤\n",
       "│ flatten_2 (<span style=\"color: #0087ff; text-decoration-color: #0087ff\">Flatten</span>)             │ (<span style=\"color: #00af00; text-decoration-color: #00af00\">1</span>, <span style=\"color: #00af00; text-decoration-color: #00af00\">1568</span>)              │             <span style=\"color: #00af00; text-decoration-color: #00af00\">0</span> │\n",
       "├─────────────────────────────────┼────────────────────────┼───────────────┤\n",
       "│ dense_2 (<span style=\"color: #0087ff; text-decoration-color: #0087ff\">Dense</span>)                 │ (<span style=\"color: #00af00; text-decoration-color: #00af00\">1</span>, <span style=\"color: #00af00; text-decoration-color: #00af00\">10</span>)                │        <span style=\"color: #00af00; text-decoration-color: #00af00\">15,690</span> │\n",
       "└─────────────────────────────────┴────────────────────────┴───────────────┘\n",
       "</pre>\n"
      ],
      "text/plain": [
       "┏━━━━━━━━━━━━━━━━━━━━━━━━━━━━━━━━━┳━━━━━━━━━━━━━━━━━━━━━━━━┳━━━━━━━━━━━━━━━┓\n",
       "┃\u001b[1m \u001b[0m\u001b[1mLayer (type)                   \u001b[0m\u001b[1m \u001b[0m┃\u001b[1m \u001b[0m\u001b[1mOutput Shape          \u001b[0m\u001b[1m \u001b[0m┃\u001b[1m \u001b[0m\u001b[1m      Param #\u001b[0m\u001b[1m \u001b[0m┃\n",
       "┡━━━━━━━━━━━━━━━━━━━━━━━━━━━━━━━━━╇━━━━━━━━━━━━━━━━━━━━━━━━╇━━━━━━━━━━━━━━━┩\n",
       "│ conv2d_4 (\u001b[38;5;33mConv2D\u001b[0m)               │ (\u001b[38;5;34m1\u001b[0m, \u001b[38;5;34m28\u001b[0m, \u001b[38;5;34m28\u001b[0m, \u001b[38;5;34m16\u001b[0m)        │           \u001b[38;5;34m160\u001b[0m │\n",
       "├─────────────────────────────────┼────────────────────────┼───────────────┤\n",
       "│ max_pooling2d_4 (\u001b[38;5;33mMaxPooling2D\u001b[0m)  │ ?                      │             \u001b[38;5;34m0\u001b[0m │\n",
       "├─────────────────────────────────┼────────────────────────┼───────────────┤\n",
       "│ conv2d_5 (\u001b[38;5;33mConv2D\u001b[0m)               │ (\u001b[38;5;34m1\u001b[0m, \u001b[38;5;34m14\u001b[0m, \u001b[38;5;34m14\u001b[0m, \u001b[38;5;34m32\u001b[0m)        │         \u001b[38;5;34m4,640\u001b[0m │\n",
       "├─────────────────────────────────┼────────────────────────┼───────────────┤\n",
       "│ max_pooling2d_5 (\u001b[38;5;33mMaxPooling2D\u001b[0m)  │ ?                      │             \u001b[38;5;34m0\u001b[0m │\n",
       "├─────────────────────────────────┼────────────────────────┼───────────────┤\n",
       "│ flatten_2 (\u001b[38;5;33mFlatten\u001b[0m)             │ (\u001b[38;5;34m1\u001b[0m, \u001b[38;5;34m1568\u001b[0m)              │             \u001b[38;5;34m0\u001b[0m │\n",
       "├─────────────────────────────────┼────────────────────────┼───────────────┤\n",
       "│ dense_2 (\u001b[38;5;33mDense\u001b[0m)                 │ (\u001b[38;5;34m1\u001b[0m, \u001b[38;5;34m10\u001b[0m)                │        \u001b[38;5;34m15,690\u001b[0m │\n",
       "└─────────────────────────────────┴────────────────────────┴───────────────┘\n"
      ]
     },
     "metadata": {},
     "output_type": "display_data"
    },
    {
     "data": {
      "text/html": [
       "<pre style=\"white-space:pre;overflow-x:auto;line-height:normal;font-family:Menlo,'DejaVu Sans Mono',consolas,'Courier New',monospace\"><span style=\"font-weight: bold\"> Total params: </span><span style=\"color: #00af00; text-decoration-color: #00af00\">20,490</span> (80.04 KB)\n",
       "</pre>\n"
      ],
      "text/plain": [
       "\u001b[1m Total params: \u001b[0m\u001b[38;5;34m20,490\u001b[0m (80.04 KB)\n"
      ]
     },
     "metadata": {},
     "output_type": "display_data"
    },
    {
     "data": {
      "text/html": [
       "<pre style=\"white-space:pre;overflow-x:auto;line-height:normal;font-family:Menlo,'DejaVu Sans Mono',consolas,'Courier New',monospace\"><span style=\"font-weight: bold\"> Trainable params: </span><span style=\"color: #00af00; text-decoration-color: #00af00\">20,490</span> (80.04 KB)\n",
       "</pre>\n"
      ],
      "text/plain": [
       "\u001b[1m Trainable params: \u001b[0m\u001b[38;5;34m20,490\u001b[0m (80.04 KB)\n"
      ]
     },
     "metadata": {},
     "output_type": "display_data"
    },
    {
     "data": {
      "text/html": [
       "<pre style=\"white-space:pre;overflow-x:auto;line-height:normal;font-family:Menlo,'DejaVu Sans Mono',consolas,'Courier New',monospace\"><span style=\"font-weight: bold\"> Non-trainable params: </span><span style=\"color: #00af00; text-decoration-color: #00af00\">0</span> (0.00 B)\n",
       "</pre>\n"
      ],
      "text/plain": [
       "\u001b[1m Non-trainable params: \u001b[0m\u001b[38;5;34m0\u001b[0m (0.00 B)\n"
      ]
     },
     "metadata": {},
     "output_type": "display_data"
    }
   ],
   "source": [
    "# PyTorch\n",
    "model_torch = SimpleCNN_PyTorch(num_classes=10)\n",
    "print(model_torch)\n",
    "\n",
    "# TensorFlow\n",
    "model_tf = SimpleCNN_TensorFlow(num_classes=10)\n",
    "dummy_input = np.random.rand(1, 28, 28, 1).astype(np.float32)\n",
    "# Modell aufrufen → wird dabei automatisch gebaut\n",
    "_ = model_tf(dummy_input)\n",
    "model_tf.build(input_shape=(None, 28, 28, 1))  # nötig für .summary()\n",
    "model_tf.summary()"
   ]
  },
  {
   "cell_type": "markdown",
   "id": "c1e55593",
   "metadata": {},
   "source": [
    "## 🖋️ MNIST – Klassischer Benchmark für Bilderkennung\n",
    "\n",
    "Der **MNIST-Datensatz** (*Modified National Institute of Standards and Technology database*) ist ein weit verbreiteter, standardisierter Testdatensatz für das Training und die Evaluation von Bildklassifikationsmodellen im Bereich des maschinellen Lernens.\n",
    "\n",
    "### 🧾 Eigenschaften:\n",
    "\n",
    "- **Bilder:** 70.000 Graustufenbilder (60000 Training, 10000 Test)\n",
    "- **Auflösung:** 28 × 28 Pixel\n",
    "- **Kategorien:** 10 Klassen (Ziffern von 0 bis 9)\n",
    "- **Format:** Einzelkanalige Graubilder (1-Kanal → Schwarzweiß)\n",
    "\n",
    "### 🎯 Ziel:\n",
    "Ein Modell zu trainieren, das eine handgeschriebene Ziffer korrekt einer der Klassen **0–9** zuordnet.\n",
    "\n",
    "Der Datensatz gilt als **„Hello World“ der Computer Vision**, einfach genug für den Einstieg, aber anspruchsvoll genug, um Architekturunterschiede und Optimierungen sichtbar zu machen."
   ]
  },
  {
   "cell_type": "code",
   "execution_count": 16,
   "id": "e125dc4d",
   "metadata": {},
   "outputs": [
    {
     "data": {
      "image/png": "[encoded data removed]",
      "text/plain": [
       "<Figure size 1000x200 with 10 Axes>"
      ]
     },
     "metadata": {},
     "output_type": "display_data"
    }
   ],
   "source": [
    "\n",
    "\n",
    "# 🖼️ Beispielbilder aus dem MNIST-Datensatz anzeigen\n",
    "from tensorflow.keras.datasets import mnist\n",
    "\n",
    "(x_train_demo, y_train_demo), _ = mnist.load_data()\n",
    "\n",
    "import matplotlib.pyplot as plt\n",
    "import numpy as np\n",
    "\n",
    "plt.figure(figsize=(10, 2))\n",
    "for i in range(10):\n",
    "    idx = np.random.randint(0, x_train_demo.shape[0])\n",
    "    plt.subplot(1, 10, i + 1)\n",
    "    plt.imshow(x_train_demo[idx], cmap=\"gray\")\n",
    "    plt.title(str(y_train_demo[idx]), fontsize=10)\n",
    "    plt.axis(\"off\")\n",
    "plt.suptitle(\"Beispielhafte MNIST-Bilder mit zugehörigen Labels\", fontsize=14)\n",
    "plt.tight_layout()\n",
    "plt.show()"
   ]
  },
  {
   "cell_type": "code",
   "execution_count": 17,
   "id": "1778649c",
   "metadata": {},
   "outputs": [],
   "source": [
    "from tensorflow.keras.datasets import mnist\n",
    "# Laden und Normalisieren\n",
    "(x_train, y_train), (x_test, y_test) = mnist.load_data()\n",
    "x_train = x_train.astype(\"float32\") / 255.0\n",
    "x_test = x_test.astype(\"float32\") / 255.0\n",
    "\n",
    "# Reshape für CNN: (Batch, Height, Width, Channel)\n",
    "x_train = np.expand_dims(x_train, -1)  # Shape: (60000, 28, 28, 1)\n",
    "x_test = np.expand_dims(x_test, -1)\n",
    "\n",
    "# Für PyTorch: Transpose zu (Batch, Channel, Height, Width)\n",
    "x_train_torch = np.transpose(x_train, (0, 3, 1, 2))\n",
    "x_test_torch = np.transpose(x_test, (0, 3, 1, 2))"
   ]
  },
  {
   "cell_type": "markdown",
   "id": "0e9ed221",
   "metadata": {},
   "source": [
    "### PyTorch Trainingsloop"
   ]
  },
  {
   "cell_type": "code",
   "execution_count": 18,
   "id": "cbafe209",
   "metadata": {},
   "outputs": [],
   "source": [
    "from torch.utils.data import TensorDataset, DataLoader\n",
    "import torch.optim as optim\n",
    "\n",
    "# TensorDataset erstellen\n",
    "train_dataset_torch = TensorDataset(torch.tensor(x_train_torch), torch.tensor(y_train))\n",
    "train_loader_torch = DataLoader(train_dataset_torch, batch_size=64, shuffle=True)\n",
    "\n",
    "# Modell, Optimizer, Loss\n",
    "model_torch = SimpleCNN_PyTorch(num_classes=10)\n",
    "optimizer = optim.Adam(model_torch.parameters(), lr=0.001)\n",
    "loss_fn = nn.NLLLoss()  # LogSoftmax-Ausgabe\n",
    "\n",
    "# Trainingsloop\n",
    "def train_torch(model, dataloader, optimizer, loss_fn, epochs=3):\n",
    "    model.train()\n",
    "    for epoch in range(epochs):\n",
    "        total_loss = 0\n",
    "        for images, labels in dataloader:\n",
    "            optimizer.zero_grad()\n",
    "            output = model(images)\n",
    "            loss = loss_fn(output, labels)\n",
    "            loss.backward()\n",
    "            optimizer.step()\n",
    "            total_loss += loss.item()\n",
    "        print(f\"Epoch {epoch+1}/{epochs} | Loss: {total_loss:.4f}\")"
   ]
  },
  {
   "cell_type": "markdown",
   "id": "12e0072a",
   "metadata": {},
   "source": [
    "### TensorFlow Trainingsloop"
   ]
  },
  {
   "cell_type": "code",
   "execution_count": 19,
   "id": "ca810eb5",
   "metadata": {},
   "outputs": [],
   "source": [
    "from tensorflow.keras.utils import to_categorical\n",
    "\n",
    "# One-Hot-Encoding\n",
    "y_train_tf = to_categorical(y_train, 10)\n",
    "\n",
    "# Modell vorbereiten\n",
    "model_tf = SimpleCNN_TensorFlow(num_classes=10)\n",
    "model_tf.compile(optimizer='adam', loss='categorical_crossentropy', metrics=['accuracy'])\n",
    "\n",
    "# Trainingsloop\n",
    "def train_tensorflow(model, x_data, y_data, epochs=3, batch_size=64):\n",
    "    model.fit(x_data, y_data, epochs=epochs, batch_size=batch_size)"
   ]
  },
  {
   "cell_type": "markdown",
   "id": "d6ce9c85",
   "metadata": {},
   "source": [
    "## Evaluation"
   ]
  },
  {
   "cell_type": "code",
   "execution_count": 23,
   "id": "a2c32191",
   "metadata": {},
   "outputs": [
    {
     "name": "stdout",
     "output_type": "stream",
     "text": [
      "False\n",
      "True\n"
     ]
    }
   ],
   "source": [
    "print(\"test_loader_torch\" in locals())\n",
    "print(\"model_torch\" in locals())\n"
   ]
  }
 ],
 "metadata": {
  "kernelspec": {
   "display_name": "vision",
   "language": "python",
   "name": "python3"
  },
  "language_info": {
   "codemirror_mode": {
    "name": "ipython",
    "version": 3
   },
   "file_extension": ".py",
   "mimetype": "text/x-python",
   "name": "python",
   "nbconvert_exporter": "python",
   "pygments_lexer": "ipython3",
   "version": "3.12.10"
  }
 },
 "nbformat": 4,
 "nbformat_minor": 5
}
